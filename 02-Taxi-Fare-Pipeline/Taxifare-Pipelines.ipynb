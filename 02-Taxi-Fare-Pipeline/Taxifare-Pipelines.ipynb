{
 "cells": [
  {
   "cell_type": "markdown",
   "metadata": {},
   "source": [
    "# Refactor the Taxi Fare Prediction Problem with a Pipeline"
   ]
  },
  {
   "cell_type": "markdown",
   "metadata": {},
   "source": [
    "We will refactor the model you built for the Taxi Fare Prediction Problem using:\n",
    "- Custom encoders for the distance and time features\n",
    "- OneHot Encoder in order to encode the hour and day of week features\n",
    "- SimpleImputer to fill missing values\n",
    "- A simple linear regression\n",
    "- A pipeline to put all together\n",
    "\n",
    "Then: \n",
    "- train this pipeline\n",
    "- apply the pipeline on test data\n",
    "- generate predictions and submit these new predictions to Kaggle"
   ]
  },
  {
   "cell_type": "markdown",
   "metadata": {},
   "source": [
    "## First pipeline"
   ]
  },
  {
   "cell_type": "code",
   "execution_count": 2,
   "metadata": {},
   "outputs": [],
   "source": [
    "# import the train dataset ( 1000 first rows)\n",
    "import pandas as pd\n",
    "\n",
    "df = pd.read_csv(\"../data/train.csv\", nrows=1000)"
   ]
  },
  {
   "cell_type": "code",
   "execution_count": 3,
   "metadata": {},
   "outputs": [
    {
     "data": {
      "text/html": [
       "<div>\n",
       "<style scoped>\n",
       "    .dataframe tbody tr th:only-of-type {\n",
       "        vertical-align: middle;\n",
       "    }\n",
       "\n",
       "    .dataframe tbody tr th {\n",
       "        vertical-align: top;\n",
       "    }\n",
       "\n",
       "    .dataframe thead th {\n",
       "        text-align: right;\n",
       "    }\n",
       "</style>\n",
       "<table border=\"1\" class=\"dataframe\">\n",
       "  <thead>\n",
       "    <tr style=\"text-align: right;\">\n",
       "      <th></th>\n",
       "      <th>key</th>\n",
       "      <th>fare_amount</th>\n",
       "      <th>pickup_datetime</th>\n",
       "      <th>pickup_longitude</th>\n",
       "      <th>pickup_latitude</th>\n",
       "      <th>dropoff_longitude</th>\n",
       "      <th>dropoff_latitude</th>\n",
       "      <th>passenger_count</th>\n",
       "    </tr>\n",
       "  </thead>\n",
       "  <tbody>\n",
       "    <tr>\n",
       "      <th>0</th>\n",
       "      <td>2009-06-15 17:26:21.0000001</td>\n",
       "      <td>4.5</td>\n",
       "      <td>2009-06-15 17:26:21 UTC</td>\n",
       "      <td>-73.844311</td>\n",
       "      <td>40.721319</td>\n",
       "      <td>-73.841610</td>\n",
       "      <td>40.712278</td>\n",
       "      <td>1</td>\n",
       "    </tr>\n",
       "    <tr>\n",
       "      <th>1</th>\n",
       "      <td>2010-01-05 16:52:16.0000002</td>\n",
       "      <td>16.9</td>\n",
       "      <td>2010-01-05 16:52:16 UTC</td>\n",
       "      <td>-74.016048</td>\n",
       "      <td>40.711303</td>\n",
       "      <td>-73.979268</td>\n",
       "      <td>40.782004</td>\n",
       "      <td>1</td>\n",
       "    </tr>\n",
       "    <tr>\n",
       "      <th>2</th>\n",
       "      <td>2011-08-18 00:35:00.00000049</td>\n",
       "      <td>5.7</td>\n",
       "      <td>2011-08-18 00:35:00 UTC</td>\n",
       "      <td>-73.982738</td>\n",
       "      <td>40.761270</td>\n",
       "      <td>-73.991242</td>\n",
       "      <td>40.750562</td>\n",
       "      <td>2</td>\n",
       "    </tr>\n",
       "    <tr>\n",
       "      <th>3</th>\n",
       "      <td>2012-04-21 04:30:42.0000001</td>\n",
       "      <td>7.7</td>\n",
       "      <td>2012-04-21 04:30:42 UTC</td>\n",
       "      <td>-73.987130</td>\n",
       "      <td>40.733143</td>\n",
       "      <td>-73.991567</td>\n",
       "      <td>40.758092</td>\n",
       "      <td>1</td>\n",
       "    </tr>\n",
       "    <tr>\n",
       "      <th>4</th>\n",
       "      <td>2010-03-09 07:51:00.000000135</td>\n",
       "      <td>5.3</td>\n",
       "      <td>2010-03-09 07:51:00 UTC</td>\n",
       "      <td>-73.968095</td>\n",
       "      <td>40.768008</td>\n",
       "      <td>-73.956655</td>\n",
       "      <td>40.783762</td>\n",
       "      <td>1</td>\n",
       "    </tr>\n",
       "    <tr>\n",
       "      <th>...</th>\n",
       "      <td>...</td>\n",
       "      <td>...</td>\n",
       "      <td>...</td>\n",
       "      <td>...</td>\n",
       "      <td>...</td>\n",
       "      <td>...</td>\n",
       "      <td>...</td>\n",
       "      <td>...</td>\n",
       "    </tr>\n",
       "    <tr>\n",
       "      <th>995</th>\n",
       "      <td>2011-07-30 07:33:13.0000001</td>\n",
       "      <td>16.9</td>\n",
       "      <td>2011-07-30 07:33:13 UTC</td>\n",
       "      <td>-73.884801</td>\n",
       "      <td>40.755707</td>\n",
       "      <td>-73.980472</td>\n",
       "      <td>40.765556</td>\n",
       "      <td>1</td>\n",
       "    </tr>\n",
       "    <tr>\n",
       "      <th>996</th>\n",
       "      <td>2011-09-24 23:20:00.000000112</td>\n",
       "      <td>13.7</td>\n",
       "      <td>2011-09-24 23:20:00 UTC</td>\n",
       "      <td>-73.953603</td>\n",
       "      <td>40.779203</td>\n",
       "      <td>-73.995763</td>\n",
       "      <td>40.726701</td>\n",
       "      <td>3</td>\n",
       "    </tr>\n",
       "    <tr>\n",
       "      <th>997</th>\n",
       "      <td>2011-12-22 11:07:00.00000037</td>\n",
       "      <td>29.3</td>\n",
       "      <td>2011-12-22 11:07:00 UTC</td>\n",
       "      <td>-73.942380</td>\n",
       "      <td>40.837712</td>\n",
       "      <td>-73.864372</td>\n",
       "      <td>40.769985</td>\n",
       "      <td>2</td>\n",
       "    </tr>\n",
       "    <tr>\n",
       "      <th>998</th>\n",
       "      <td>2014-11-03 12:40:00.00000014</td>\n",
       "      <td>6.5</td>\n",
       "      <td>2014-11-03 12:40:00 UTC</td>\n",
       "      <td>-73.961151</td>\n",
       "      <td>40.774578</td>\n",
       "      <td>-73.972251</td>\n",
       "      <td>40.785640</td>\n",
       "      <td>1</td>\n",
       "    </tr>\n",
       "    <tr>\n",
       "      <th>999</th>\n",
       "      <td>2012-05-18 18:41:30.0000006</td>\n",
       "      <td>10.9</td>\n",
       "      <td>2012-05-18 18:41:30 UTC</td>\n",
       "      <td>-73.988455</td>\n",
       "      <td>40.758432</td>\n",
       "      <td>-73.983816</td>\n",
       "      <td>40.730147</td>\n",
       "      <td>1</td>\n",
       "    </tr>\n",
       "  </tbody>\n",
       "</table>\n",
       "<p>1000 rows × 8 columns</p>\n",
       "</div>"
      ],
      "text/plain": [
       "                               key  fare_amount          pickup_datetime  \\\n",
       "0      2009-06-15 17:26:21.0000001          4.5  2009-06-15 17:26:21 UTC   \n",
       "1      2010-01-05 16:52:16.0000002         16.9  2010-01-05 16:52:16 UTC   \n",
       "2     2011-08-18 00:35:00.00000049          5.7  2011-08-18 00:35:00 UTC   \n",
       "3      2012-04-21 04:30:42.0000001          7.7  2012-04-21 04:30:42 UTC   \n",
       "4    2010-03-09 07:51:00.000000135          5.3  2010-03-09 07:51:00 UTC   \n",
       "..                             ...          ...                      ...   \n",
       "995    2011-07-30 07:33:13.0000001         16.9  2011-07-30 07:33:13 UTC   \n",
       "996  2011-09-24 23:20:00.000000112         13.7  2011-09-24 23:20:00 UTC   \n",
       "997   2011-12-22 11:07:00.00000037         29.3  2011-12-22 11:07:00 UTC   \n",
       "998   2014-11-03 12:40:00.00000014          6.5  2014-11-03 12:40:00 UTC   \n",
       "999    2012-05-18 18:41:30.0000006         10.9  2012-05-18 18:41:30 UTC   \n",
       "\n",
       "     pickup_longitude  pickup_latitude  dropoff_longitude  dropoff_latitude  \\\n",
       "0          -73.844311        40.721319         -73.841610         40.712278   \n",
       "1          -74.016048        40.711303         -73.979268         40.782004   \n",
       "2          -73.982738        40.761270         -73.991242         40.750562   \n",
       "3          -73.987130        40.733143         -73.991567         40.758092   \n",
       "4          -73.968095        40.768008         -73.956655         40.783762   \n",
       "..                ...              ...                ...               ...   \n",
       "995        -73.884801        40.755707         -73.980472         40.765556   \n",
       "996        -73.953603        40.779203         -73.995763         40.726701   \n",
       "997        -73.942380        40.837712         -73.864372         40.769985   \n",
       "998        -73.961151        40.774578         -73.972251         40.785640   \n",
       "999        -73.988455        40.758432         -73.983816         40.730147   \n",
       "\n",
       "     passenger_count  \n",
       "0                  1  \n",
       "1                  1  \n",
       "2                  2  \n",
       "3                  1  \n",
       "4                  1  \n",
       "..               ...  \n",
       "995                1  \n",
       "996                3  \n",
       "997                2  \n",
       "998                1  \n",
       "999                1  \n",
       "\n",
       "[1000 rows x 8 columns]"
      ]
     },
     "execution_count": 3,
     "metadata": {},
     "output_type": "execute_result"
    }
   ],
   "source": [
    "df"
   ]
  },
  {
   "cell_type": "code",
   "execution_count": 7,
   "metadata": {},
   "outputs": [],
   "source": [
    "# prepare X and y\n",
    "X = df.drop(columns=[\"fare_amount\"])\n",
    "y = df.fare_amount"
   ]
  },
  {
   "cell_type": "code",
   "execution_count": 9,
   "metadata": {},
   "outputs": [],
   "source": [
    "# Hold out ( train and test dplit )\n",
    "from sklearn.model_selection import train_test_split\n",
    "\n",
    "X_train, X_test, y_train, y_test = train_test_split(X, y, test_size=0.3, random_state=42)"
   ]
  },
  {
   "cell_type": "code",
   "execution_count": 10,
   "metadata": {},
   "outputs": [
    {
     "data": {
      "text/html": [
       "<div>\n",
       "<style scoped>\n",
       "    .dataframe tbody tr th:only-of-type {\n",
       "        vertical-align: middle;\n",
       "    }\n",
       "\n",
       "    .dataframe tbody tr th {\n",
       "        vertical-align: top;\n",
       "    }\n",
       "\n",
       "    .dataframe thead th {\n",
       "        text-align: right;\n",
       "    }\n",
       "</style>\n",
       "<table border=\"1\" class=\"dataframe\">\n",
       "  <thead>\n",
       "    <tr style=\"text-align: right;\">\n",
       "      <th></th>\n",
       "      <th>key</th>\n",
       "      <th>pickup_datetime</th>\n",
       "      <th>pickup_longitude</th>\n",
       "      <th>pickup_latitude</th>\n",
       "      <th>dropoff_longitude</th>\n",
       "      <th>dropoff_latitude</th>\n",
       "      <th>passenger_count</th>\n",
       "    </tr>\n",
       "  </thead>\n",
       "  <tbody>\n",
       "    <tr>\n",
       "      <th>541</th>\n",
       "      <td>2014-07-07 13:52:00.000000120</td>\n",
       "      <td>2014-07-07 13:52:00 UTC</td>\n",
       "      <td>-73.979962</td>\n",
       "      <td>40.759952</td>\n",
       "      <td>-73.994670</td>\n",
       "      <td>40.723662</td>\n",
       "      <td>1</td>\n",
       "    </tr>\n",
       "    <tr>\n",
       "      <th>440</th>\n",
       "      <td>2010-01-31 15:21:08.0000002</td>\n",
       "      <td>2010-01-31 15:21:08 UTC</td>\n",
       "      <td>-73.976061</td>\n",
       "      <td>40.758180</td>\n",
       "      <td>-73.948436</td>\n",
       "      <td>40.782550</td>\n",
       "      <td>1</td>\n",
       "    </tr>\n",
       "    <tr>\n",
       "      <th>482</th>\n",
       "      <td>2013-11-19 10:38:00.00000061</td>\n",
       "      <td>2013-11-19 10:38:00 UTC</td>\n",
       "      <td>-74.003197</td>\n",
       "      <td>40.744075</td>\n",
       "      <td>-74.000670</td>\n",
       "      <td>40.726062</td>\n",
       "      <td>1</td>\n",
       "    </tr>\n",
       "    <tr>\n",
       "      <th>422</th>\n",
       "      <td>2010-04-21 13:39:00.000000112</td>\n",
       "      <td>2010-04-21 13:39:00 UTC</td>\n",
       "      <td>-73.988323</td>\n",
       "      <td>40.722913</td>\n",
       "      <td>-74.002315</td>\n",
       "      <td>40.729572</td>\n",
       "      <td>1</td>\n",
       "    </tr>\n",
       "    <tr>\n",
       "      <th>778</th>\n",
       "      <td>2011-02-07 08:39:21.0000005</td>\n",
       "      <td>2011-02-07 08:39:21 UTC</td>\n",
       "      <td>-73.964999</td>\n",
       "      <td>40.806719</td>\n",
       "      <td>-73.958495</td>\n",
       "      <td>40.784222</td>\n",
       "      <td>1</td>\n",
       "    </tr>\n",
       "  </tbody>\n",
       "</table>\n",
       "</div>"
      ],
      "text/plain": [
       "                               key          pickup_datetime  pickup_longitude  \\\n",
       "541  2014-07-07 13:52:00.000000120  2014-07-07 13:52:00 UTC        -73.979962   \n",
       "440    2010-01-31 15:21:08.0000002  2010-01-31 15:21:08 UTC        -73.976061   \n",
       "482   2013-11-19 10:38:00.00000061  2013-11-19 10:38:00 UTC        -74.003197   \n",
       "422  2010-04-21 13:39:00.000000112  2010-04-21 13:39:00 UTC        -73.988323   \n",
       "778    2011-02-07 08:39:21.0000005  2011-02-07 08:39:21 UTC        -73.964999   \n",
       "\n",
       "     pickup_latitude  dropoff_longitude  dropoff_latitude  passenger_count  \n",
       "541        40.759952         -73.994670         40.723662                1  \n",
       "440        40.758180         -73.948436         40.782550                1  \n",
       "482        40.744075         -74.000670         40.726062                1  \n",
       "422        40.722913         -74.002315         40.729572                1  \n",
       "778        40.806719         -73.958495         40.784222                1  "
      ]
     },
     "execution_count": 10,
     "metadata": {},
     "output_type": "execute_result"
    }
   ],
   "source": [
    "X_train.head()"
   ]
  },
  {
   "cell_type": "markdown",
   "metadata": {},
   "source": [
    "### Custom transformers"
   ]
  },
  {
   "cell_type": "markdown",
   "metadata": {},
   "source": [
    "With the Taxi Fare Prediction Challenge data, using `BaseEstimator` and `TransformerMixin`, implement:\n",
    "\n",
    "- a transformer that computes the haversine distance between the pickup and dropoff locations\n",
    "- a custom encoder that extracts the time features from `pickup_datetime`"
   ]
  },
  {
   "cell_type": "code",
   "execution_count": 11,
   "metadata": {},
   "outputs": [],
   "source": [
    "import numpy as np\n",
    "\n",
    "def haversine_vectorized(df, \n",
    "                         start_lat=\"pickup_latitude\",\n",
    "                         start_lon=\"pickup_longitude\",\n",
    "                         end_lat=\"dropoff_latitude\",\n",
    "                         end_lon=\"dropoff_longitude\"):\n",
    "    \"\"\" \n",
    "        Calculates the great circle distance between two points \n",
    "        on the earth (specified in decimal degrees).\n",
    "        Vectorized version of the haversine distance for pandas df.\n",
    "        Computes the distance in kms.\n",
    "    \"\"\"\n",
    "\n",
    "    lat_1_rad, lon_1_rad = np.radians(df[start_lat].astype(float)), np.radians(df[start_lon].astype(float))\n",
    "    lat_2_rad, lon_2_rad = np.radians(df[end_lat].astype(float)), np.radians(df[end_lon].astype(float))\n",
    "    dlon = lon_2_rad - lon_1_rad\n",
    "    dlat = lat_2_rad - lat_1_rad\n",
    "\n",
    "    a = np.sin(dlat / 2.0) ** 2 + np.cos(lat_1_rad) * np.cos(lat_2_rad) * np.sin(dlon / 2.0) ** 2\n",
    "    c = 2 * np.arcsin(np.sqrt(a))\n",
    "    return 6371 * c"
   ]
  },
  {
   "cell_type": "code",
   "execution_count": 23,
   "metadata": {},
   "outputs": [],
   "source": [
    "# create a DistanceTransformer\n",
    "from sklearn.base import BaseEstimator, TransformerMixin\n",
    "\n",
    "class DistanceTransformer(BaseEstimator, TransformerMixin):\n",
    "    \"\"\"\n",
    "        Computes the haversine distance between two GPS points.\n",
    "        Returns a copy of the DataFrame X with only one column: 'distance'.\n",
    "    \"\"\"\n",
    "\n",
    "    def __init__(self,\n",
    "                 start_lat=\"pickup_latitude\",\n",
    "                 start_lon=\"pickup_longitude\",\n",
    "                 end_lat=\"dropoff_latitude\",\n",
    "                 end_lon=\"dropoff_longitude\"):\n",
    "\n",
    "        self.start_lat = start_lat\n",
    "        self.start_lon = start_lon\n",
    "        self.end_lat = end_lat\n",
    "        self.end_lon = end_lon\n",
    "        # A COMPPLETER\n",
    "    \n",
    "    def fit(self, X, y=None):\n",
    "        return self\n",
    "        # A COMPLETER \n",
    "\n",
    "    def transform(self, X, y=None):\n",
    "        lat_1_rad, lon_1_rad = np.radians(X[self.start_lat].astype(float)), np.radians(X[self.start_lon].astype(float))\n",
    "        lat_2_rad, lon_2_rad = np.radians(X[self.end_lat].astype(float)), np.radians(X[self.end_lon].astype(float))\n",
    "        dlon = lon_2_rad - lon_1_rad\n",
    "        dlat = lat_2_rad - lat_1_rad\n",
    "        a = np.sin(dlat / 2.0) ** 2 + np.cos(lat_1_rad) * np.cos(lat_2_rad) * np.sin(dlon / 2.0) ** 2\n",
    "        c = 2 * np.arcsin(np.sqrt(a))\n",
    "        return pd.DataFrame(6371 * c, columns=[\"distance\"])"
   ]
  },
  {
   "cell_type": "code",
   "execution_count": 24,
   "metadata": {},
   "outputs": [
    {
     "data": {
      "text/html": [
       "<div>\n",
       "<style scoped>\n",
       "    .dataframe tbody tr th:only-of-type {\n",
       "        vertical-align: middle;\n",
       "    }\n",
       "\n",
       "    .dataframe tbody tr th {\n",
       "        vertical-align: top;\n",
       "    }\n",
       "\n",
       "    .dataframe thead th {\n",
       "        text-align: right;\n",
       "    }\n",
       "</style>\n",
       "<table border=\"1\" class=\"dataframe\">\n",
       "  <thead>\n",
       "    <tr style=\"text-align: right;\">\n",
       "      <th></th>\n",
       "      <th>distance</th>\n",
       "    </tr>\n",
       "  </thead>\n",
       "  <tbody>\n",
       "    <tr>\n",
       "      <th>541</th>\n",
       "      <td>4.221228</td>\n",
       "    </tr>\n",
       "    <tr>\n",
       "      <th>440</th>\n",
       "      <td>3.571415</td>\n",
       "    </tr>\n",
       "    <tr>\n",
       "      <th>482</th>\n",
       "      <td>2.014239</td>\n",
       "    </tr>\n",
       "    <tr>\n",
       "      <th>422</th>\n",
       "      <td>1.392289</td>\n",
       "    </tr>\n",
       "    <tr>\n",
       "      <th>778</th>\n",
       "      <td>2.560767</td>\n",
       "    </tr>\n",
       "  </tbody>\n",
       "</table>\n",
       "</div>"
      ],
      "text/plain": [
       "     distance\n",
       "541  4.221228\n",
       "440  3.571415\n",
       "482  2.014239\n",
       "422  1.392289\n",
       "778  2.560767"
      ]
     },
     "execution_count": 24,
     "metadata": {},
     "output_type": "execute_result"
    }
   ],
   "source": [
    "# test the DistanceTransformer\n",
    "\n",
    "dist_trans = DistanceTransformer()\n",
    "distance = dist_trans.fit_transform(X_train, y_train)\n",
    "distance.head()"
   ]
  },
  {
   "cell_type": "code",
   "execution_count": 45,
   "metadata": {},
   "outputs": [],
   "source": [
    "# create a TimeFeaturesEncoder\n",
    "class TimeFeaturesEncoder(BaseEstimator, TransformerMixin):\n",
    "    \"\"\"\n",
    "        Extracts the day of week (dow), the hour, the month and the year from a time column.\n",
    "        Returns a copy of the DataFrame X with only four columns: 'dow', 'hour', 'month', 'year'.\n",
    "    \"\"\"\n",
    "\n",
    "    def __init__(self, datetime=\"pickup_datetime\", time_zone =\"America/New_York\"):\n",
    "        self.datetime = datetime    \n",
    "        self.time_zone = time_zone\n",
    "       # A COMPLETER\n",
    "\n",
    "    def fit(self, X, y=None):\n",
    "        return self\n",
    "        # A COMPLETER\n",
    "\n",
    "    def transform(self, X, y=None):\n",
    "        X[self.datetime] = pd.to_datetime(X[self.datetime], format=\"%Y-%m-%d %H:%M:%S %Z\").dt.tz_convert(self.time_zone)\n",
    "        X_ = pd.DataFrame()\n",
    "        X_[\"dow\"] = X[self.datetime].dt.dayofweek\n",
    "        X_[\"hour\"] = X[self.datetime].dt.hour\n",
    "        X_[\"month\"] = X[self.datetime].dt.month\n",
    "        X_[\"year\"] = X[self.datetime].dt.year\n",
    "\n",
    "        # A COMPLETER\n",
    "        return X_"
   ]
  },
  {
   "cell_type": "code",
   "execution_count": 46,
   "metadata": {},
   "outputs": [
    {
     "data": {
      "text/html": [
       "<div>\n",
       "<style scoped>\n",
       "    .dataframe tbody tr th:only-of-type {\n",
       "        vertical-align: middle;\n",
       "    }\n",
       "\n",
       "    .dataframe tbody tr th {\n",
       "        vertical-align: top;\n",
       "    }\n",
       "\n",
       "    .dataframe thead th {\n",
       "        text-align: right;\n",
       "    }\n",
       "</style>\n",
       "<table border=\"1\" class=\"dataframe\">\n",
       "  <thead>\n",
       "    <tr style=\"text-align: right;\">\n",
       "      <th></th>\n",
       "      <th>dow</th>\n",
       "      <th>hour</th>\n",
       "      <th>month</th>\n",
       "      <th>year</th>\n",
       "    </tr>\n",
       "  </thead>\n",
       "  <tbody>\n",
       "    <tr>\n",
       "      <th>541</th>\n",
       "      <td>0</td>\n",
       "      <td>9</td>\n",
       "      <td>7</td>\n",
       "      <td>2014</td>\n",
       "    </tr>\n",
       "    <tr>\n",
       "      <th>440</th>\n",
       "      <td>6</td>\n",
       "      <td>10</td>\n",
       "      <td>1</td>\n",
       "      <td>2010</td>\n",
       "    </tr>\n",
       "    <tr>\n",
       "      <th>482</th>\n",
       "      <td>1</td>\n",
       "      <td>5</td>\n",
       "      <td>11</td>\n",
       "      <td>2013</td>\n",
       "    </tr>\n",
       "    <tr>\n",
       "      <th>422</th>\n",
       "      <td>2</td>\n",
       "      <td>9</td>\n",
       "      <td>4</td>\n",
       "      <td>2010</td>\n",
       "    </tr>\n",
       "    <tr>\n",
       "      <th>778</th>\n",
       "      <td>0</td>\n",
       "      <td>3</td>\n",
       "      <td>2</td>\n",
       "      <td>2011</td>\n",
       "    </tr>\n",
       "  </tbody>\n",
       "</table>\n",
       "</div>"
      ],
      "text/plain": [
       "     dow  hour  month  year\n",
       "541    0     9      7  2014\n",
       "440    6    10      1  2010\n",
       "482    1     5     11  2013\n",
       "422    2     9      4  2010\n",
       "778    0     3      2  2011"
      ]
     },
     "execution_count": 46,
     "metadata": {},
     "output_type": "execute_result"
    }
   ],
   "source": [
    "time_enc = TimeFeaturesEncoder('pickup_datetime')\n",
    "time_features = time_enc.fit_transform(X_train, y_train)\n",
    "time_features.head()"
   ]
  },
  {
   "cell_type": "code",
   "execution_count": 11,
   "metadata": {},
   "outputs": [
    {
     "data": {
      "text/html": [
       "<div>\n",
       "<style scoped>\n",
       "    .dataframe tbody tr th:only-of-type {\n",
       "        vertical-align: middle;\n",
       "    }\n",
       "\n",
       "    .dataframe tbody tr th {\n",
       "        vertical-align: top;\n",
       "    }\n",
       "\n",
       "    .dataframe thead th {\n",
       "        text-align: right;\n",
       "    }\n",
       "</style>\n",
       "<table border=\"1\" class=\"dataframe\">\n",
       "  <thead>\n",
       "    <tr style=\"text-align: right;\">\n",
       "      <th></th>\n",
       "      <th>dow</th>\n",
       "      <th>hour</th>\n",
       "      <th>month</th>\n",
       "      <th>year</th>\n",
       "    </tr>\n",
       "    <tr>\n",
       "      <th>pickup_datetime</th>\n",
       "      <th></th>\n",
       "      <th></th>\n",
       "      <th></th>\n",
       "      <th></th>\n",
       "    </tr>\n",
       "  </thead>\n",
       "  <tbody>\n",
       "    <tr>\n",
       "      <th>2013-06-14 13:37:00-04:00</th>\n",
       "      <td>4</td>\n",
       "      <td>13</td>\n",
       "      <td>6</td>\n",
       "      <td>2013</td>\n",
       "    </tr>\n",
       "    <tr>\n",
       "      <th>2014-06-14 16:48:12-04:00</th>\n",
       "      <td>5</td>\n",
       "      <td>16</td>\n",
       "      <td>6</td>\n",
       "      <td>2014</td>\n",
       "    </tr>\n",
       "    <tr>\n",
       "      <th>2015-03-22 10:23:12-04:00</th>\n",
       "      <td>6</td>\n",
       "      <td>10</td>\n",
       "      <td>3</td>\n",
       "      <td>2015</td>\n",
       "    </tr>\n",
       "    <tr>\n",
       "      <th>2009-09-13 08:47:43-04:00</th>\n",
       "      <td>6</td>\n",
       "      <td>8</td>\n",
       "      <td>9</td>\n",
       "      <td>2009</td>\n",
       "    </tr>\n",
       "    <tr>\n",
       "      <th>2014-07-20 08:48:35-04:00</th>\n",
       "      <td>6</td>\n",
       "      <td>8</td>\n",
       "      <td>7</td>\n",
       "      <td>2014</td>\n",
       "    </tr>\n",
       "  </tbody>\n",
       "</table>\n",
       "</div>"
      ],
      "text/plain": [
       "                           dow  hour  month  year\n",
       "pickup_datetime                                  \n",
       "2013-06-14 13:37:00-04:00    4    13      6  2013\n",
       "2014-06-14 16:48:12-04:00    5    16      6  2014\n",
       "2015-03-22 10:23:12-04:00    6    10      3  2015\n",
       "2009-09-13 08:47:43-04:00    6     8      9  2009\n",
       "2014-07-20 08:48:35-04:00    6     8      7  2014"
      ]
     },
     "execution_count": 11,
     "metadata": {},
     "output_type": "execute_result"
    }
   ],
   "source": [
    "# test the TimeFeaturesEncoder\n",
    "\n",
    "time_enc = TimeFeaturesEncoder('pickup_datetime')\n",
    "time_features = time_enc.fit_transform(X_train, y_train)\n",
    "time_features.head()"
   ]
  },
  {
   "cell_type": "markdown",
   "metadata": {},
   "source": [
    "###  Prepocessing pipeline"
   ]
  },
  {
   "cell_type": "code",
   "execution_count": 47,
   "metadata": {},
   "outputs": [],
   "source": [
    "# visualizing pipelines in HTML\n",
    "from sklearn import set_config; set_config(display='diagram')"
   ]
  },
  {
   "cell_type": "markdown",
   "metadata": {},
   "source": [
    "#### Distance pipeline\n",
    "\n",
    "Create a pipeline for distances:\n",
    "- convert the pickup and dropoff coordinates into distances with the DistanceTransformer\n",
    "- standardize these distances"
   ]
  },
  {
   "cell_type": "code",
   "execution_count": 48,
   "metadata": {},
   "outputs": [
    {
     "data": {
      "text/html": [
       "<style>#sk-8237daa9-9364-4a2c-8641-1a0121ee9170 {color: black;background-color: white;}#sk-8237daa9-9364-4a2c-8641-1a0121ee9170 pre{padding: 0;}#sk-8237daa9-9364-4a2c-8641-1a0121ee9170 div.sk-toggleable {background-color: white;}#sk-8237daa9-9364-4a2c-8641-1a0121ee9170 label.sk-toggleable__label {cursor: pointer;display: block;width: 100%;margin-bottom: 0;padding: 0.3em;box-sizing: border-box;text-align: center;}#sk-8237daa9-9364-4a2c-8641-1a0121ee9170 div.sk-toggleable__content {max-height: 0;max-width: 0;overflow: hidden;text-align: left;background-color: #f0f8ff;}#sk-8237daa9-9364-4a2c-8641-1a0121ee9170 div.sk-toggleable__content pre {margin: 0.2em;color: black;border-radius: 0.25em;background-color: #f0f8ff;}#sk-8237daa9-9364-4a2c-8641-1a0121ee9170 input.sk-toggleable__control:checked~div.sk-toggleable__content {max-height: 200px;max-width: 100%;overflow: auto;}#sk-8237daa9-9364-4a2c-8641-1a0121ee9170 div.sk-estimator input.sk-toggleable__control:checked~label.sk-toggleable__label {background-color: #d4ebff;}#sk-8237daa9-9364-4a2c-8641-1a0121ee9170 div.sk-label input.sk-toggleable__control:checked~label.sk-toggleable__label {background-color: #d4ebff;}#sk-8237daa9-9364-4a2c-8641-1a0121ee9170 input.sk-hidden--visually {border: 0;clip: rect(1px 1px 1px 1px);clip: rect(1px, 1px, 1px, 1px);height: 1px;margin: -1px;overflow: hidden;padding: 0;position: absolute;width: 1px;}#sk-8237daa9-9364-4a2c-8641-1a0121ee9170 div.sk-estimator {font-family: monospace;background-color: #f0f8ff;border: 1px dotted black;border-radius: 0.25em;box-sizing: border-box;margin-bottom: 0.5em;}#sk-8237daa9-9364-4a2c-8641-1a0121ee9170 div.sk-estimator:hover {background-color: #d4ebff;}#sk-8237daa9-9364-4a2c-8641-1a0121ee9170 div.sk-parallel-item::after {content: \"\";width: 100%;border-bottom: 1px solid gray;flex-grow: 1;}#sk-8237daa9-9364-4a2c-8641-1a0121ee9170 div.sk-label:hover label.sk-toggleable__label {background-color: #d4ebff;}#sk-8237daa9-9364-4a2c-8641-1a0121ee9170 div.sk-serial::before {content: \"\";position: absolute;border-left: 1px solid gray;box-sizing: border-box;top: 2em;bottom: 0;left: 50%;}#sk-8237daa9-9364-4a2c-8641-1a0121ee9170 div.sk-serial {display: flex;flex-direction: column;align-items: center;background-color: white;padding-right: 0.2em;padding-left: 0.2em;}#sk-8237daa9-9364-4a2c-8641-1a0121ee9170 div.sk-item {z-index: 1;}#sk-8237daa9-9364-4a2c-8641-1a0121ee9170 div.sk-parallel {display: flex;align-items: stretch;justify-content: center;background-color: white;}#sk-8237daa9-9364-4a2c-8641-1a0121ee9170 div.sk-parallel::before {content: \"\";position: absolute;border-left: 1px solid gray;box-sizing: border-box;top: 2em;bottom: 0;left: 50%;}#sk-8237daa9-9364-4a2c-8641-1a0121ee9170 div.sk-parallel-item {display: flex;flex-direction: column;position: relative;background-color: white;}#sk-8237daa9-9364-4a2c-8641-1a0121ee9170 div.sk-parallel-item:first-child::after {align-self: flex-end;width: 50%;}#sk-8237daa9-9364-4a2c-8641-1a0121ee9170 div.sk-parallel-item:last-child::after {align-self: flex-start;width: 50%;}#sk-8237daa9-9364-4a2c-8641-1a0121ee9170 div.sk-parallel-item:only-child::after {width: 0;}#sk-8237daa9-9364-4a2c-8641-1a0121ee9170 div.sk-dashed-wrapped {border: 1px dashed gray;margin: 0 0.4em 0.5em 0.4em;box-sizing: border-box;padding-bottom: 0.4em;background-color: white;position: relative;}#sk-8237daa9-9364-4a2c-8641-1a0121ee9170 div.sk-label label {font-family: monospace;font-weight: bold;background-color: white;display: inline-block;line-height: 1.2em;}#sk-8237daa9-9364-4a2c-8641-1a0121ee9170 div.sk-label-container {position: relative;z-index: 2;text-align: center;}#sk-8237daa9-9364-4a2c-8641-1a0121ee9170 div.sk-container {display: inline-block;position: relative;}</style><div id=\"sk-8237daa9-9364-4a2c-8641-1a0121ee9170\" class\"sk-top-container\"><div class=\"sk-container\"><div class=\"sk-item sk-dashed-wrapped\"><div class=\"sk-label-container\"><div class=\"sk-label sk-toggleable\"><input class=\"sk-toggleable__control sk-hidden--visually\" id=\"7f5c8279-1aec-4790-b0dc-6eded9f8bd57\" type=\"checkbox\" ><label class=\"sk-toggleable__label\" for=\"7f5c8279-1aec-4790-b0dc-6eded9f8bd57\">Pipeline</label><div class=\"sk-toggleable__content\"><pre>Pipeline(steps=[('dist_trans', DistanceTransformer()),\n",
       "                ('std_scale', StandardScaler())])</pre></div></div></div><div class=\"sk-serial\"><div class=\"sk-item\"><div class=\"sk-estimator sk-toggleable\"><input class=\"sk-toggleable__control sk-hidden--visually\" id=\"b86f633e-d4dc-4d9e-a20e-d51009495505\" type=\"checkbox\" ><label class=\"sk-toggleable__label\" for=\"b86f633e-d4dc-4d9e-a20e-d51009495505\">DistanceTransformer</label><div class=\"sk-toggleable__content\"><pre>DistanceTransformer()</pre></div></div></div><div class=\"sk-item\"><div class=\"sk-estimator sk-toggleable\"><input class=\"sk-toggleable__control sk-hidden--visually\" id=\"1d0f20d6-d7f7-48ee-97d4-1341e47e9d2d\" type=\"checkbox\" ><label class=\"sk-toggleable__label\" for=\"1d0f20d6-d7f7-48ee-97d4-1341e47e9d2d\">StandardScaler</label><div class=\"sk-toggleable__content\"><pre>StandardScaler()</pre></div></div></div></div></div></div></div>"
      ],
      "text/plain": [
       "Pipeline(steps=[('dist_trans', DistanceTransformer()),\n",
       "                ('std_scale', StandardScaler())])"
      ]
     },
     "execution_count": 48,
     "metadata": {},
     "output_type": "execute_result"
    }
   ],
   "source": [
    "from sklearn.preprocessing import StandardScaler\n",
    "from sklearn.pipeline import Pipeline\n",
    "# create distance pipeline dist_pipe\n",
    "dist_pipe = Pipeline([(\"dist_trans\", DistanceTransformer()), (\"std_scale\", StandardScaler())])\n",
    "\n",
    "# display distance pipeline\n",
    "dist_pipe"
   ]
  },
  {
   "cell_type": "markdown",
   "metadata": {},
   "source": [
    "#### Time features pipeline\n",
    "\n",
    "Create a pipeline for time features\n",
    "- extract time features from pickup datetime with the TimeFeaturesEncoder\n",
    "- encode these categorical time features with the OneHotEncoder"
   ]
  },
  {
   "cell_type": "code",
   "execution_count": 56,
   "metadata": {},
   "outputs": [
    {
     "data": {
      "text/html": [
       "<style>#sk-67911355-9835-42d0-8e90-a741dd8d1401 {color: black;background-color: white;}#sk-67911355-9835-42d0-8e90-a741dd8d1401 pre{padding: 0;}#sk-67911355-9835-42d0-8e90-a741dd8d1401 div.sk-toggleable {background-color: white;}#sk-67911355-9835-42d0-8e90-a741dd8d1401 label.sk-toggleable__label {cursor: pointer;display: block;width: 100%;margin-bottom: 0;padding: 0.3em;box-sizing: border-box;text-align: center;}#sk-67911355-9835-42d0-8e90-a741dd8d1401 div.sk-toggleable__content {max-height: 0;max-width: 0;overflow: hidden;text-align: left;background-color: #f0f8ff;}#sk-67911355-9835-42d0-8e90-a741dd8d1401 div.sk-toggleable__content pre {margin: 0.2em;color: black;border-radius: 0.25em;background-color: #f0f8ff;}#sk-67911355-9835-42d0-8e90-a741dd8d1401 input.sk-toggleable__control:checked~div.sk-toggleable__content {max-height: 200px;max-width: 100%;overflow: auto;}#sk-67911355-9835-42d0-8e90-a741dd8d1401 div.sk-estimator input.sk-toggleable__control:checked~label.sk-toggleable__label {background-color: #d4ebff;}#sk-67911355-9835-42d0-8e90-a741dd8d1401 div.sk-label input.sk-toggleable__control:checked~label.sk-toggleable__label {background-color: #d4ebff;}#sk-67911355-9835-42d0-8e90-a741dd8d1401 input.sk-hidden--visually {border: 0;clip: rect(1px 1px 1px 1px);clip: rect(1px, 1px, 1px, 1px);height: 1px;margin: -1px;overflow: hidden;padding: 0;position: absolute;width: 1px;}#sk-67911355-9835-42d0-8e90-a741dd8d1401 div.sk-estimator {font-family: monospace;background-color: #f0f8ff;border: 1px dotted black;border-radius: 0.25em;box-sizing: border-box;margin-bottom: 0.5em;}#sk-67911355-9835-42d0-8e90-a741dd8d1401 div.sk-estimator:hover {background-color: #d4ebff;}#sk-67911355-9835-42d0-8e90-a741dd8d1401 div.sk-parallel-item::after {content: \"\";width: 100%;border-bottom: 1px solid gray;flex-grow: 1;}#sk-67911355-9835-42d0-8e90-a741dd8d1401 div.sk-label:hover label.sk-toggleable__label {background-color: #d4ebff;}#sk-67911355-9835-42d0-8e90-a741dd8d1401 div.sk-serial::before {content: \"\";position: absolute;border-left: 1px solid gray;box-sizing: border-box;top: 2em;bottom: 0;left: 50%;}#sk-67911355-9835-42d0-8e90-a741dd8d1401 div.sk-serial {display: flex;flex-direction: column;align-items: center;background-color: white;padding-right: 0.2em;padding-left: 0.2em;}#sk-67911355-9835-42d0-8e90-a741dd8d1401 div.sk-item {z-index: 1;}#sk-67911355-9835-42d0-8e90-a741dd8d1401 div.sk-parallel {display: flex;align-items: stretch;justify-content: center;background-color: white;}#sk-67911355-9835-42d0-8e90-a741dd8d1401 div.sk-parallel::before {content: \"\";position: absolute;border-left: 1px solid gray;box-sizing: border-box;top: 2em;bottom: 0;left: 50%;}#sk-67911355-9835-42d0-8e90-a741dd8d1401 div.sk-parallel-item {display: flex;flex-direction: column;position: relative;background-color: white;}#sk-67911355-9835-42d0-8e90-a741dd8d1401 div.sk-parallel-item:first-child::after {align-self: flex-end;width: 50%;}#sk-67911355-9835-42d0-8e90-a741dd8d1401 div.sk-parallel-item:last-child::after {align-self: flex-start;width: 50%;}#sk-67911355-9835-42d0-8e90-a741dd8d1401 div.sk-parallel-item:only-child::after {width: 0;}#sk-67911355-9835-42d0-8e90-a741dd8d1401 div.sk-dashed-wrapped {border: 1px dashed gray;margin: 0 0.4em 0.5em 0.4em;box-sizing: border-box;padding-bottom: 0.4em;background-color: white;position: relative;}#sk-67911355-9835-42d0-8e90-a741dd8d1401 div.sk-label label {font-family: monospace;font-weight: bold;background-color: white;display: inline-block;line-height: 1.2em;}#sk-67911355-9835-42d0-8e90-a741dd8d1401 div.sk-label-container {position: relative;z-index: 2;text-align: center;}#sk-67911355-9835-42d0-8e90-a741dd8d1401 div.sk-container {display: inline-block;position: relative;}</style><div id=\"sk-67911355-9835-42d0-8e90-a741dd8d1401\" class\"sk-top-container\"><div class=\"sk-container\"><div class=\"sk-item sk-dashed-wrapped\"><div class=\"sk-label-container\"><div class=\"sk-label sk-toggleable\"><input class=\"sk-toggleable__control sk-hidden--visually\" id=\"1f62cf06-a23c-4c78-85f8-5cb1afca0ca9\" type=\"checkbox\" ><label class=\"sk-toggleable__label\" for=\"1f62cf06-a23c-4c78-85f8-5cb1afca0ca9\">Pipeline</label><div class=\"sk-toggleable__content\"><pre>Pipeline(steps=[('time_encode', TimeFeaturesEncoder()),\n",
       "                ('one_hot', OneHotEncoder(handle_unknown='ignore'))])</pre></div></div></div><div class=\"sk-serial\"><div class=\"sk-item\"><div class=\"sk-estimator sk-toggleable\"><input class=\"sk-toggleable__control sk-hidden--visually\" id=\"a0fc450b-2172-44f7-9f9c-39406cd04398\" type=\"checkbox\" ><label class=\"sk-toggleable__label\" for=\"a0fc450b-2172-44f7-9f9c-39406cd04398\">TimeFeaturesEncoder</label><div class=\"sk-toggleable__content\"><pre>TimeFeaturesEncoder()</pre></div></div></div><div class=\"sk-item\"><div class=\"sk-estimator sk-toggleable\"><input class=\"sk-toggleable__control sk-hidden--visually\" id=\"05929256-81fe-4b32-af45-3167f007d00b\" type=\"checkbox\" ><label class=\"sk-toggleable__label\" for=\"05929256-81fe-4b32-af45-3167f007d00b\">OneHotEncoder</label><div class=\"sk-toggleable__content\"><pre>OneHotEncoder(handle_unknown='ignore')</pre></div></div></div></div></div></div></div>"
      ],
      "text/plain": [
       "Pipeline(steps=[('time_encode', TimeFeaturesEncoder()),\n",
       "                ('one_hot', OneHotEncoder(handle_unknown='ignore'))])"
      ]
     },
     "execution_count": 56,
     "metadata": {},
     "output_type": "execute_result"
    }
   ],
   "source": [
    "from sklearn.preprocessing import OneHotEncoder\n",
    "# create time pipeline time_pipe\n",
    "time_pipe = Pipeline([(\"time_encode\", TimeFeaturesEncoder()), (\"one_hot\", OneHotEncoder(handle_unknown=\"ignore\"))])\n",
    "\n",
    "# display time pipeline\n",
    "time_pipe"
   ]
  },
  {
   "cell_type": "markdown",
   "metadata": {},
   "source": [
    "#### Preprocessing pipeline\n",
    "\n",
    "Wrap up the distance pipeline and the time pipeline into a preprocessing pipeline."
   ]
  },
  {
   "cell_type": "code",
   "execution_count": 59,
   "metadata": {},
   "outputs": [
    {
     "data": {
      "text/html": [
       "<style>#sk-052042e4-c499-47ec-9c23-c1f86a007257 {color: black;background-color: white;}#sk-052042e4-c499-47ec-9c23-c1f86a007257 pre{padding: 0;}#sk-052042e4-c499-47ec-9c23-c1f86a007257 div.sk-toggleable {background-color: white;}#sk-052042e4-c499-47ec-9c23-c1f86a007257 label.sk-toggleable__label {cursor: pointer;display: block;width: 100%;margin-bottom: 0;padding: 0.3em;box-sizing: border-box;text-align: center;}#sk-052042e4-c499-47ec-9c23-c1f86a007257 div.sk-toggleable__content {max-height: 0;max-width: 0;overflow: hidden;text-align: left;background-color: #f0f8ff;}#sk-052042e4-c499-47ec-9c23-c1f86a007257 div.sk-toggleable__content pre {margin: 0.2em;color: black;border-radius: 0.25em;background-color: #f0f8ff;}#sk-052042e4-c499-47ec-9c23-c1f86a007257 input.sk-toggleable__control:checked~div.sk-toggleable__content {max-height: 200px;max-width: 100%;overflow: auto;}#sk-052042e4-c499-47ec-9c23-c1f86a007257 div.sk-estimator input.sk-toggleable__control:checked~label.sk-toggleable__label {background-color: #d4ebff;}#sk-052042e4-c499-47ec-9c23-c1f86a007257 div.sk-label input.sk-toggleable__control:checked~label.sk-toggleable__label {background-color: #d4ebff;}#sk-052042e4-c499-47ec-9c23-c1f86a007257 input.sk-hidden--visually {border: 0;clip: rect(1px 1px 1px 1px);clip: rect(1px, 1px, 1px, 1px);height: 1px;margin: -1px;overflow: hidden;padding: 0;position: absolute;width: 1px;}#sk-052042e4-c499-47ec-9c23-c1f86a007257 div.sk-estimator {font-family: monospace;background-color: #f0f8ff;border: 1px dotted black;border-radius: 0.25em;box-sizing: border-box;margin-bottom: 0.5em;}#sk-052042e4-c499-47ec-9c23-c1f86a007257 div.sk-estimator:hover {background-color: #d4ebff;}#sk-052042e4-c499-47ec-9c23-c1f86a007257 div.sk-parallel-item::after {content: \"\";width: 100%;border-bottom: 1px solid gray;flex-grow: 1;}#sk-052042e4-c499-47ec-9c23-c1f86a007257 div.sk-label:hover label.sk-toggleable__label {background-color: #d4ebff;}#sk-052042e4-c499-47ec-9c23-c1f86a007257 div.sk-serial::before {content: \"\";position: absolute;border-left: 1px solid gray;box-sizing: border-box;top: 2em;bottom: 0;left: 50%;}#sk-052042e4-c499-47ec-9c23-c1f86a007257 div.sk-serial {display: flex;flex-direction: column;align-items: center;background-color: white;padding-right: 0.2em;padding-left: 0.2em;}#sk-052042e4-c499-47ec-9c23-c1f86a007257 div.sk-item {z-index: 1;}#sk-052042e4-c499-47ec-9c23-c1f86a007257 div.sk-parallel {display: flex;align-items: stretch;justify-content: center;background-color: white;}#sk-052042e4-c499-47ec-9c23-c1f86a007257 div.sk-parallel::before {content: \"\";position: absolute;border-left: 1px solid gray;box-sizing: border-box;top: 2em;bottom: 0;left: 50%;}#sk-052042e4-c499-47ec-9c23-c1f86a007257 div.sk-parallel-item {display: flex;flex-direction: column;position: relative;background-color: white;}#sk-052042e4-c499-47ec-9c23-c1f86a007257 div.sk-parallel-item:first-child::after {align-self: flex-end;width: 50%;}#sk-052042e4-c499-47ec-9c23-c1f86a007257 div.sk-parallel-item:last-child::after {align-self: flex-start;width: 50%;}#sk-052042e4-c499-47ec-9c23-c1f86a007257 div.sk-parallel-item:only-child::after {width: 0;}#sk-052042e4-c499-47ec-9c23-c1f86a007257 div.sk-dashed-wrapped {border: 1px dashed gray;margin: 0 0.4em 0.5em 0.4em;box-sizing: border-box;padding-bottom: 0.4em;background-color: white;position: relative;}#sk-052042e4-c499-47ec-9c23-c1f86a007257 div.sk-label label {font-family: monospace;font-weight: bold;background-color: white;display: inline-block;line-height: 1.2em;}#sk-052042e4-c499-47ec-9c23-c1f86a007257 div.sk-label-container {position: relative;z-index: 2;text-align: center;}#sk-052042e4-c499-47ec-9c23-c1f86a007257 div.sk-container {display: inline-block;position: relative;}</style><div id=\"sk-052042e4-c499-47ec-9c23-c1f86a007257\" class\"sk-top-container\"><div class=\"sk-container\"><div class=\"sk-item sk-dashed-wrapped\"><div class=\"sk-label-container\"><div class=\"sk-label sk-toggleable\"><input class=\"sk-toggleable__control sk-hidden--visually\" id=\"7e36bc23-0467-4830-b8db-8d997c7c9485\" type=\"checkbox\" ><label class=\"sk-toggleable__label\" for=\"7e36bc23-0467-4830-b8db-8d997c7c9485\">ColumnTransformer</label><div class=\"sk-toggleable__content\"><pre>ColumnTransformer(transformers=[('distance',\n",
       "                                 Pipeline(steps=[('dist_trans',\n",
       "                                                  DistanceTransformer()),\n",
       "                                                 ('std_scale',\n",
       "                                                  StandardScaler())]),\n",
       "                                 ['pickup_latitude', 'pickup_longitude',\n",
       "                                  'dropoff_latitude', 'dropoff_longitude']),\n",
       "                                ('time',\n",
       "                                 Pipeline(steps=[('time_encode',\n",
       "                                                  TimeFeaturesEncoder()),\n",
       "                                                 ('one_hot',\n",
       "                                                  OneHotEncoder(handle_unknown='ignore'))]),\n",
       "                                 ['pickup_datetime'])])</pre></div></div></div><div class=\"sk-parallel\"><div class=\"sk-parallel-item\"><div class=\"sk-item\"><div class=\"sk-label-container\"><div class=\"sk-label sk-toggleable\"><input class=\"sk-toggleable__control sk-hidden--visually\" id=\"76a179a6-c709-4fd6-9314-72867b5b820f\" type=\"checkbox\" ><label class=\"sk-toggleable__label\" for=\"76a179a6-c709-4fd6-9314-72867b5b820f\">distance</label><div class=\"sk-toggleable__content\"><pre>['pickup_latitude', 'pickup_longitude', 'dropoff_latitude', 'dropoff_longitude']</pre></div></div></div><div class=\"sk-serial\"><div class=\"sk-item\"><div class=\"sk-serial\"><div class=\"sk-item\"><div class=\"sk-estimator sk-toggleable\"><input class=\"sk-toggleable__control sk-hidden--visually\" id=\"92c6cd91-841b-4ba2-81ff-c577c01e0b07\" type=\"checkbox\" ><label class=\"sk-toggleable__label\" for=\"92c6cd91-841b-4ba2-81ff-c577c01e0b07\">DistanceTransformer</label><div class=\"sk-toggleable__content\"><pre>DistanceTransformer()</pre></div></div></div><div class=\"sk-item\"><div class=\"sk-estimator sk-toggleable\"><input class=\"sk-toggleable__control sk-hidden--visually\" id=\"fff27741-9445-4629-8e12-8ee4f96e7d0a\" type=\"checkbox\" ><label class=\"sk-toggleable__label\" for=\"fff27741-9445-4629-8e12-8ee4f96e7d0a\">StandardScaler</label><div class=\"sk-toggleable__content\"><pre>StandardScaler()</pre></div></div></div></div></div></div></div></div><div class=\"sk-parallel-item\"><div class=\"sk-item\"><div class=\"sk-label-container\"><div class=\"sk-label sk-toggleable\"><input class=\"sk-toggleable__control sk-hidden--visually\" id=\"ede0b5d3-97ad-4f88-a271-41c40279dce0\" type=\"checkbox\" ><label class=\"sk-toggleable__label\" for=\"ede0b5d3-97ad-4f88-a271-41c40279dce0\">time</label><div class=\"sk-toggleable__content\"><pre>['pickup_datetime']</pre></div></div></div><div class=\"sk-serial\"><div class=\"sk-item\"><div class=\"sk-serial\"><div class=\"sk-item\"><div class=\"sk-estimator sk-toggleable\"><input class=\"sk-toggleable__control sk-hidden--visually\" id=\"631fb1af-8e2e-4583-8f2f-0850db90b9de\" type=\"checkbox\" ><label class=\"sk-toggleable__label\" for=\"631fb1af-8e2e-4583-8f2f-0850db90b9de\">TimeFeaturesEncoder</label><div class=\"sk-toggleable__content\"><pre>TimeFeaturesEncoder()</pre></div></div></div><div class=\"sk-item\"><div class=\"sk-estimator sk-toggleable\"><input class=\"sk-toggleable__control sk-hidden--visually\" id=\"3c4e6721-34b0-4d86-89b4-a170579da1dc\" type=\"checkbox\" ><label class=\"sk-toggleable__label\" for=\"3c4e6721-34b0-4d86-89b4-a170579da1dc\">OneHotEncoder</label><div class=\"sk-toggleable__content\"><pre>OneHotEncoder(handle_unknown='ignore')</pre></div></div></div></div></div></div></div></div></div></div></div></div>"
      ],
      "text/plain": [
       "ColumnTransformer(transformers=[('distance',\n",
       "                                 Pipeline(steps=[('dist_trans',\n",
       "                                                  DistanceTransformer()),\n",
       "                                                 ('std_scale',\n",
       "                                                  StandardScaler())]),\n",
       "                                 ['pickup_latitude', 'pickup_longitude',\n",
       "                                  'dropoff_latitude', 'dropoff_longitude']),\n",
       "                                ('time',\n",
       "                                 Pipeline(steps=[('time_encode',\n",
       "                                                  TimeFeaturesEncoder()),\n",
       "                                                 ('one_hot',\n",
       "                                                  OneHotEncoder(handle_unknown='ignore'))]),\n",
       "                                 ['pickup_datetime'])])"
      ]
     },
     "execution_count": 59,
     "metadata": {},
     "output_type": "execute_result"
    }
   ],
   "source": [
    "from sklearn.compose import ColumnTransformer\n",
    "# create preprocessing pipeline preproc_pipe\n",
    "preproc_pipe = ColumnTransformer(transformers=[(\"distance\", dist_pipe, \n",
    "                                                    [\"pickup_latitude\", \n",
    "                                                    \"pickup_longitude\", \n",
    "                                                    \"dropoff_latitude\", \n",
    "                                                    \"dropoff_longitude\"]),\n",
    "                                                (\"time\", time_pipe,\n",
    "                                                    [\"pickup_datetime\"])])\n",
    "# display preprocessing pipeline\n",
    "preproc_pipe"
   ]
  },
  {
   "cell_type": "markdown",
   "metadata": {},
   "source": [
    "### Model pipeline\n",
    "\n",
    "Create a pipeline containing the preprocessing and the regression model of your choice."
   ]
  },
  {
   "cell_type": "code",
   "execution_count": 60,
   "metadata": {},
   "outputs": [
    {
     "data": {
      "text/html": [
       "<style>#sk-ff45063c-ada0-4138-9cfd-4bd5f7c754fe {color: black;background-color: white;}#sk-ff45063c-ada0-4138-9cfd-4bd5f7c754fe pre{padding: 0;}#sk-ff45063c-ada0-4138-9cfd-4bd5f7c754fe div.sk-toggleable {background-color: white;}#sk-ff45063c-ada0-4138-9cfd-4bd5f7c754fe label.sk-toggleable__label {cursor: pointer;display: block;width: 100%;margin-bottom: 0;padding: 0.3em;box-sizing: border-box;text-align: center;}#sk-ff45063c-ada0-4138-9cfd-4bd5f7c754fe div.sk-toggleable__content {max-height: 0;max-width: 0;overflow: hidden;text-align: left;background-color: #f0f8ff;}#sk-ff45063c-ada0-4138-9cfd-4bd5f7c754fe div.sk-toggleable__content pre {margin: 0.2em;color: black;border-radius: 0.25em;background-color: #f0f8ff;}#sk-ff45063c-ada0-4138-9cfd-4bd5f7c754fe input.sk-toggleable__control:checked~div.sk-toggleable__content {max-height: 200px;max-width: 100%;overflow: auto;}#sk-ff45063c-ada0-4138-9cfd-4bd5f7c754fe div.sk-estimator input.sk-toggleable__control:checked~label.sk-toggleable__label {background-color: #d4ebff;}#sk-ff45063c-ada0-4138-9cfd-4bd5f7c754fe div.sk-label input.sk-toggleable__control:checked~label.sk-toggleable__label {background-color: #d4ebff;}#sk-ff45063c-ada0-4138-9cfd-4bd5f7c754fe input.sk-hidden--visually {border: 0;clip: rect(1px 1px 1px 1px);clip: rect(1px, 1px, 1px, 1px);height: 1px;margin: -1px;overflow: hidden;padding: 0;position: absolute;width: 1px;}#sk-ff45063c-ada0-4138-9cfd-4bd5f7c754fe div.sk-estimator {font-family: monospace;background-color: #f0f8ff;border: 1px dotted black;border-radius: 0.25em;box-sizing: border-box;margin-bottom: 0.5em;}#sk-ff45063c-ada0-4138-9cfd-4bd5f7c754fe div.sk-estimator:hover {background-color: #d4ebff;}#sk-ff45063c-ada0-4138-9cfd-4bd5f7c754fe div.sk-parallel-item::after {content: \"\";width: 100%;border-bottom: 1px solid gray;flex-grow: 1;}#sk-ff45063c-ada0-4138-9cfd-4bd5f7c754fe div.sk-label:hover label.sk-toggleable__label {background-color: #d4ebff;}#sk-ff45063c-ada0-4138-9cfd-4bd5f7c754fe div.sk-serial::before {content: \"\";position: absolute;border-left: 1px solid gray;box-sizing: border-box;top: 2em;bottom: 0;left: 50%;}#sk-ff45063c-ada0-4138-9cfd-4bd5f7c754fe div.sk-serial {display: flex;flex-direction: column;align-items: center;background-color: white;padding-right: 0.2em;padding-left: 0.2em;}#sk-ff45063c-ada0-4138-9cfd-4bd5f7c754fe div.sk-item {z-index: 1;}#sk-ff45063c-ada0-4138-9cfd-4bd5f7c754fe div.sk-parallel {display: flex;align-items: stretch;justify-content: center;background-color: white;}#sk-ff45063c-ada0-4138-9cfd-4bd5f7c754fe div.sk-parallel::before {content: \"\";position: absolute;border-left: 1px solid gray;box-sizing: border-box;top: 2em;bottom: 0;left: 50%;}#sk-ff45063c-ada0-4138-9cfd-4bd5f7c754fe div.sk-parallel-item {display: flex;flex-direction: column;position: relative;background-color: white;}#sk-ff45063c-ada0-4138-9cfd-4bd5f7c754fe div.sk-parallel-item:first-child::after {align-self: flex-end;width: 50%;}#sk-ff45063c-ada0-4138-9cfd-4bd5f7c754fe div.sk-parallel-item:last-child::after {align-self: flex-start;width: 50%;}#sk-ff45063c-ada0-4138-9cfd-4bd5f7c754fe div.sk-parallel-item:only-child::after {width: 0;}#sk-ff45063c-ada0-4138-9cfd-4bd5f7c754fe div.sk-dashed-wrapped {border: 1px dashed gray;margin: 0 0.4em 0.5em 0.4em;box-sizing: border-box;padding-bottom: 0.4em;background-color: white;position: relative;}#sk-ff45063c-ada0-4138-9cfd-4bd5f7c754fe div.sk-label label {font-family: monospace;font-weight: bold;background-color: white;display: inline-block;line-height: 1.2em;}#sk-ff45063c-ada0-4138-9cfd-4bd5f7c754fe div.sk-label-container {position: relative;z-index: 2;text-align: center;}#sk-ff45063c-ada0-4138-9cfd-4bd5f7c754fe div.sk-container {display: inline-block;position: relative;}</style><div id=\"sk-ff45063c-ada0-4138-9cfd-4bd5f7c754fe\" class\"sk-top-container\"><div class=\"sk-container\"><div class=\"sk-item sk-dashed-wrapped\"><div class=\"sk-label-container\"><div class=\"sk-label sk-toggleable\"><input class=\"sk-toggleable__control sk-hidden--visually\" id=\"8bcf7d6f-5dda-40e1-a262-6c12cb09bdac\" type=\"checkbox\" ><label class=\"sk-toggleable__label\" for=\"8bcf7d6f-5dda-40e1-a262-6c12cb09bdac\">Pipeline</label><div class=\"sk-toggleable__content\"><pre>Pipeline(steps=[('preproc',\n",
       "                 ColumnTransformer(transformers=[('distance',\n",
       "                                                  Pipeline(steps=[('dist_trans',\n",
       "                                                                   DistanceTransformer()),\n",
       "                                                                  ('std_scale',\n",
       "                                                                   StandardScaler())]),\n",
       "                                                  ['pickup_latitude',\n",
       "                                                   'pickup_longitude',\n",
       "                                                   'dropoff_latitude',\n",
       "                                                   'dropoff_longitude']),\n",
       "                                                 ('time',\n",
       "                                                  Pipeline(steps=[('time_encode',\n",
       "                                                                   TimeFeaturesEncoder()),\n",
       "                                                                  ('one_hot',\n",
       "                                                                   OneHotEncoder(handle_unknown='ignore'))]),\n",
       "                                                  ['pickup_datetime'])])),\n",
       "                ('model', LinearRegression())])</pre></div></div></div><div class=\"sk-serial\"><div class=\"sk-item sk-dashed-wrapped\"><div class=\"sk-label-container\"><div class=\"sk-label sk-toggleable\"><input class=\"sk-toggleable__control sk-hidden--visually\" id=\"7047b8a1-ffe3-4971-a795-52ae7efe4a2b\" type=\"checkbox\" ><label class=\"sk-toggleable__label\" for=\"7047b8a1-ffe3-4971-a795-52ae7efe4a2b\">preproc: ColumnTransformer</label><div class=\"sk-toggleable__content\"><pre>ColumnTransformer(transformers=[('distance',\n",
       "                                 Pipeline(steps=[('dist_trans',\n",
       "                                                  DistanceTransformer()),\n",
       "                                                 ('std_scale',\n",
       "                                                  StandardScaler())]),\n",
       "                                 ['pickup_latitude', 'pickup_longitude',\n",
       "                                  'dropoff_latitude', 'dropoff_longitude']),\n",
       "                                ('time',\n",
       "                                 Pipeline(steps=[('time_encode',\n",
       "                                                  TimeFeaturesEncoder()),\n",
       "                                                 ('one_hot',\n",
       "                                                  OneHotEncoder(handle_unknown='ignore'))]),\n",
       "                                 ['pickup_datetime'])])</pre></div></div></div><div class=\"sk-parallel\"><div class=\"sk-parallel-item\"><div class=\"sk-item\"><div class=\"sk-label-container\"><div class=\"sk-label sk-toggleable\"><input class=\"sk-toggleable__control sk-hidden--visually\" id=\"5e831254-4213-4c5c-966c-955e5f92387b\" type=\"checkbox\" ><label class=\"sk-toggleable__label\" for=\"5e831254-4213-4c5c-966c-955e5f92387b\">distance</label><div class=\"sk-toggleable__content\"><pre>['pickup_latitude', 'pickup_longitude', 'dropoff_latitude', 'dropoff_longitude']</pre></div></div></div><div class=\"sk-serial\"><div class=\"sk-item\"><div class=\"sk-serial\"><div class=\"sk-item\"><div class=\"sk-estimator sk-toggleable\"><input class=\"sk-toggleable__control sk-hidden--visually\" id=\"42a8526b-2166-45ef-8930-16434b077b41\" type=\"checkbox\" ><label class=\"sk-toggleable__label\" for=\"42a8526b-2166-45ef-8930-16434b077b41\">DistanceTransformer</label><div class=\"sk-toggleable__content\"><pre>DistanceTransformer()</pre></div></div></div><div class=\"sk-item\"><div class=\"sk-estimator sk-toggleable\"><input class=\"sk-toggleable__control sk-hidden--visually\" id=\"7f1519b5-6a6c-4dd5-83a9-481a3fc3a448\" type=\"checkbox\" ><label class=\"sk-toggleable__label\" for=\"7f1519b5-6a6c-4dd5-83a9-481a3fc3a448\">StandardScaler</label><div class=\"sk-toggleable__content\"><pre>StandardScaler()</pre></div></div></div></div></div></div></div></div><div class=\"sk-parallel-item\"><div class=\"sk-item\"><div class=\"sk-label-container\"><div class=\"sk-label sk-toggleable\"><input class=\"sk-toggleable__control sk-hidden--visually\" id=\"9c45c5ea-8c67-4a76-ba95-3ed754825675\" type=\"checkbox\" ><label class=\"sk-toggleable__label\" for=\"9c45c5ea-8c67-4a76-ba95-3ed754825675\">time</label><div class=\"sk-toggleable__content\"><pre>['pickup_datetime']</pre></div></div></div><div class=\"sk-serial\"><div class=\"sk-item\"><div class=\"sk-serial\"><div class=\"sk-item\"><div class=\"sk-estimator sk-toggleable\"><input class=\"sk-toggleable__control sk-hidden--visually\" id=\"777fd236-e140-4325-9efe-4ac297fcaf53\" type=\"checkbox\" ><label class=\"sk-toggleable__label\" for=\"777fd236-e140-4325-9efe-4ac297fcaf53\">TimeFeaturesEncoder</label><div class=\"sk-toggleable__content\"><pre>TimeFeaturesEncoder()</pre></div></div></div><div class=\"sk-item\"><div class=\"sk-estimator sk-toggleable\"><input class=\"sk-toggleable__control sk-hidden--visually\" id=\"82fe1cd7-f6cc-412c-9162-1e83aa0518ca\" type=\"checkbox\" ><label class=\"sk-toggleable__label\" for=\"82fe1cd7-f6cc-412c-9162-1e83aa0518ca\">OneHotEncoder</label><div class=\"sk-toggleable__content\"><pre>OneHotEncoder(handle_unknown='ignore')</pre></div></div></div></div></div></div></div></div></div></div><div class=\"sk-item\"><div class=\"sk-estimator sk-toggleable\"><input class=\"sk-toggleable__control sk-hidden--visually\" id=\"78d497a8-e6c7-4035-8060-0728fbc27d9c\" type=\"checkbox\" ><label class=\"sk-toggleable__label\" for=\"78d497a8-e6c7-4035-8060-0728fbc27d9c\">LinearRegression</label><div class=\"sk-toggleable__content\"><pre>LinearRegression()</pre></div></div></div></div></div></div></div>"
      ],
      "text/plain": [
       "Pipeline(steps=[('preproc',\n",
       "                 ColumnTransformer(transformers=[('distance',\n",
       "                                                  Pipeline(steps=[('dist_trans',\n",
       "                                                                   DistanceTransformer()),\n",
       "                                                                  ('std_scale',\n",
       "                                                                   StandardScaler())]),\n",
       "                                                  ['pickup_latitude',\n",
       "                                                   'pickup_longitude',\n",
       "                                                   'dropoff_latitude',\n",
       "                                                   'dropoff_longitude']),\n",
       "                                                 ('time',\n",
       "                                                  Pipeline(steps=[('time_encode',\n",
       "                                                                   TimeFeaturesEncoder()),\n",
       "                                                                  ('one_hot',\n",
       "                                                                   OneHotEncoder(handle_unknown='ignore'))]),\n",
       "                                                  ['pickup_datetime'])])),\n",
       "                ('model', LinearRegression())])"
      ]
     },
     "execution_count": 60,
     "metadata": {},
     "output_type": "execute_result"
    }
   ],
   "source": [
    "from sklearn.linear_model import LinearRegression\n",
    "\n",
    "# Add the model of your choice to the pipeline nammed pipe\n",
    "pipe = Pipeline([(\"preproc\", preproc_pipe), (\"model\", LinearRegression())])\n",
    "# display the pipeline with model\n",
    "pipe"
   ]
  },
  {
   "cell_type": "markdown",
   "metadata": {},
   "source": [
    "### Training and performance"
   ]
  },
  {
   "cell_type": "markdown",
   "metadata": {},
   "source": [
    "Train the pipelined model and compute the prediction on the test set:"
   ]
  },
  {
   "cell_type": "code",
   "execution_count": 64,
   "metadata": {},
   "outputs": [],
   "source": [
    "# train the pipelined model\n",
    "\n",
    "pipe.fit(X_train, y_train)\n",
    "# compute y_pred on the test set\n",
    "y_pred = pipe.predict(X_test)"
   ]
  },
  {
   "cell_type": "markdown",
   "metadata": {},
   "source": [
    "Use the RMSE to evaluate the performance of the model:"
   ]
  },
  {
   "cell_type": "code",
   "execution_count": 65,
   "metadata": {},
   "outputs": [],
   "source": [
    "def compute_rmse(y_pred, y_true):\n",
    "    return np.sqrt(((y_pred - y_true)**2).mean())"
   ]
  },
  {
   "cell_type": "code",
   "execution_count": 66,
   "metadata": {
    "scrolled": true
   },
   "outputs": [
    {
     "data": {
      "text/plain": [
       "9.653808294503953"
      ]
     },
     "execution_count": 66,
     "metadata": {},
     "output_type": "execute_result"
    }
   ],
   "source": [
    "# call compute_rmse\n",
    "compute_rmse(y_pred, y_test)"
   ]
  },
  {
   "cell_type": "markdown",
   "metadata": {},
   "source": [
    "## Complete the workflow with a pipeline"
   ]
  },
  {
   "cell_type": "markdown",
   "metadata": {},
   "source": [
    "Here we will implement the whole workflow for our Taxifare kaggle challenge.\n",
    "\n",
    "For that we will refactor the code in functions for more clarity.\n",
    "\n",
    "Implement the following functions:\n",
    "- `get_data()` to fetch the data \n",
    "- `clean_data()` to clean the data\n",
    "- `get_pipeline()` to get the pipeline defined earlier\n",
    "- `train()` to train our model\n",
    "- `evaluate()` to evaluate our model on test data"
   ]
  },
  {
   "cell_type": "code",
   "execution_count": 91,
   "metadata": {},
   "outputs": [],
   "source": [
    "# implement get_data() function\n",
    "def get_data(nrows=1000000):\n",
    "    '''returns a DataFrame with nrows '''\n",
    "    df = pd.read_csv(\"../data/train.csv\", nrows=nrows)\n",
    "    return df"
   ]
  },
  {
   "cell_type": "code",
   "execution_count": 73,
   "metadata": {},
   "outputs": [],
   "source": [
    "# implement clean_data() function\n",
    "def clean_data(df, test=False):\n",
    "    '''returns a DataFrame without outliers and missing values'''\n",
    "    # A COMPLETER\n",
    "    return df[(df.fare_amount.between(0, 60)) & \n",
    "            (df.passenger_count < 9 ) & \n",
    "            (df.passenger_count != 0) & \n",
    "            (df.pickup_latitude.between(left = 40, right = 42 )) & \n",
    "            (df.pickup_longitude.between(left = -74.3, right = -72.9 )) & \n",
    "            (df.dropoff_latitude.between(left = 40, right = 42 )) & \n",
    "            (df.dropoff_longitude.between(left = -74, right = -72.9 ))]"
   ]
  },
  {
   "cell_type": "code",
   "execution_count": 70,
   "metadata": {},
   "outputs": [],
   "source": [
    "# implement set_pipeline() function\n",
    "def set_pipeline():\n",
    "    '''returns a pipelined model'''\n",
    "    dist_pipe = Pipeline([(\"dist_trans\", DistanceTransformer()), (\"std_scale\", StandardScaler())])\n",
    "    time_pipe = Pipeline([(\"time_encode\", TimeFeaturesEncoder()), (\"one_hot\", OneHotEncoder(handle_unknown=\"ignore\"))])\n",
    "    preproc_pipe = ColumnTransformer(transformers=[(\"distance\", dist_pipe, \n",
    "                                                    [\"pickup_latitude\", \n",
    "                                                    \"pickup_longitude\", \n",
    "                                                    \"dropoff_latitude\", \n",
    "                                                    \"dropoff_longitude\"]),\n",
    "                                                (\"time\", time_pipe,\n",
    "                                                    [\"pickup_datetime\"])])\n",
    "    pipe = Pipeline([(\"preproc\", preproc_pipe), (\"model\", LinearRegression())])\n",
    "     # A  COMPLETER\n",
    "    return pipe"
   ]
  },
  {
   "cell_type": "code",
   "execution_count": 75,
   "metadata": {},
   "outputs": [],
   "source": [
    "# implement train() function\n",
    "def train(X_train, y_train, pipeline):\n",
    "    '''returns a trained pipelined model'''\n",
    "    pipeline.fit(X_train, y_train)\n",
    "   # A COMPLETER\n",
    "    return pipeline"
   ]
  },
  {
   "cell_type": "code",
   "execution_count": 71,
   "metadata": {},
   "outputs": [],
   "source": [
    "# implement evaluate() function\n",
    "def evaluate(X_test, y_test, pipeline):\n",
    "    '''returns the value of the RMSE'''\n",
    "    y_pred = pipeline.predict(X_test)\n",
    "    # A COMPLETER\n",
    "    return np.sqrt(((y_pred - y_test)**2).mean())"
   ]
  },
  {
   "cell_type": "markdown",
   "metadata": {},
   "source": [
    "### Test the complete worflow\n",
    "\n",
    "Use the above functions to test the complete workflow."
   ]
  },
  {
   "cell_type": "code",
   "execution_count": 93,
   "metadata": {},
   "outputs": [
    {
     "name": "stdout",
     "output_type": "stream",
     "text": [
      "4.4741449883573905\n"
     ]
    }
   ],
   "source": [
    "# store the data in a DataFrame\n",
    "df = get_data()\n",
    "df = clean_data(df)\n",
    "# set X and y\n",
    "y = df[\"fare_amount\"]\n",
    "X = df.drop(\"fare_amount\", axis=1)\n",
    "\n",
    "# hold out\n",
    "X_train, X_val, y_train, y_val = train_test_split(X, y, test_size=0.15, random_state=42)\n",
    "\n",
    "# build pipeline\n",
    "pipeline = set_pipeline()\n",
    "\n",
    "# train the pipeline\n",
    "pipeline = train(X_train, y_train, pipeline)\n",
    "\n",
    "# evaluate the pipeline\n",
    "rmse = evaluate(X_val, y_val, pipeline)\n",
    "print(rmse)"
   ]
  },
  {
   "cell_type": "markdown",
   "metadata": {},
   "source": [
    "### Congrats!\n",
    "\n",
    "Now we are ready to convert this complete workflow into a packaged code 🚀"
   ]
  }
 ],
 "metadata": {
  "challengify": {
   "keep_output": true
  },
  "kernelspec": {
   "display_name": "Python 3",
   "language": "python",
   "name": "python3"
  },
  "language_info": {
   "codemirror_mode": {
    "name": "ipython",
    "version": 3
   },
   "file_extension": ".py",
   "mimetype": "text/x-python",
   "name": "python",
   "nbconvert_exporter": "python",
   "pygments_lexer": "ipython3",
   "version": "3.8.8"
  },
  "pycharm": {
   "stem_cell": {
    "cell_type": "raw",
    "metadata": {
     "collapsed": false
    },
    "source": []
   }
  },
  "toc": {
   "base_numbering": 1,
   "nav_menu": {},
   "number_sections": false,
   "sideBar": true,
   "skip_h1_title": false,
   "title_cell": "Table of Contents",
   "title_sidebar": "Contents",
   "toc_cell": false,
   "toc_position": {},
   "toc_section_display": true,
   "toc_window_display": true
  },
  "varInspector": {
   "cols": {
    "lenName": 16,
    "lenType": 16,
    "lenVar": 40
   },
   "kernels_config": {
    "python": {
     "delete_cmd_postfix": "",
     "delete_cmd_prefix": "del ",
     "library": "var_list.py",
     "varRefreshCmd": "print(var_dic_list())"
    },
    "r": {
     "delete_cmd_postfix": ") ",
     "delete_cmd_prefix": "rm(",
     "library": "var_list.r",
     "varRefreshCmd": "cat(var_dic_list()) "
    }
   },
   "position": {
    "height": "244px",
    "left": "1550px",
    "right": "20px",
    "top": "120px",
    "width": "350px"
   },
   "types_to_exclude": [
    "module",
    "function",
    "builtin_function_or_method",
    "instance",
    "_Feature"
   ],
   "window_display": false
  }
 },
 "nbformat": 4,
 "nbformat_minor": 4
}
